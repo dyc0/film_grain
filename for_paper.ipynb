{
 "cells": [
  {
   "cell_type": "code",
   "execution_count": 1,
   "id": "5738b0a3-b285-4823-ae83-fe88398515ba",
   "metadata": {},
   "outputs": [],
   "source": [
    "import sys, os, shutil"
   ]
  },
  {
   "cell_type": "code",
   "execution_count": 7,
   "id": "f8c9150a-5c1a-4faa-8702-aa984ab76bc8",
   "metadata": {},
   "outputs": [],
   "source": [
    "with open('analysis_output/for_renoising.txt') as f:\n",
    "    images = f.read().splitlines()"
   ]
  },
  {
   "cell_type": "code",
   "execution_count": 6,
   "id": "917341e2-41af-4942-94d5-48c1df07690d",
   "metadata": {},
   "outputs": [],
   "source": [
    "outpath = 'analysis_output/final_results'\n",
    "if not os.path.exists(outpath):\n",
    "    os.mkdir(outpath)\n",
    "    \n",
    "for image in images:\n",
    "    shutil.copy(os.path.join('analysis_output', image, 'noisy.png'), os.path.join(outpath, image + '_noisy.png'))\n",
    "    shutil.copy(os.path.join('analysis_output', image, image + '_renoised.png'), os.path.join(outpath, image + '_renoised.png'))"
   ]
  },
  {
   "cell_type": "code",
   "execution_count": null,
   "id": "d46fb525-a89c-4e95-b404-680e80b06559",
   "metadata": {},
   "outputs": [],
   "source": []
  }
 ],
 "metadata": {
  "kernelspec": {
   "display_name": "Python 3 (ipykernel)",
   "language": "python",
   "name": "python3"
  },
  "language_info": {
   "codemirror_mode": {
    "name": "ipython",
    "version": 3
   },
   "file_extension": ".py",
   "mimetype": "text/x-python",
   "name": "python",
   "nbconvert_exporter": "python",
   "pygments_lexer": "ipython3",
   "version": "3.11.3"
  }
 },
 "nbformat": 4,
 "nbformat_minor": 5
}
